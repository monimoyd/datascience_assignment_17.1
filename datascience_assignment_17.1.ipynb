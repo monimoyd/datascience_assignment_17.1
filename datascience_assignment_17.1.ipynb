{
 "cells": [
  {
   "cell_type": "markdown",
   "metadata": {},
   "source": [
    "## A test is conducted which is consisting of 20 MCQs (multiple choices questions) with every MCQ having its four options out of which only one is correct. Determine the probability that a person undertaking that test has answered exactly 5 questions wrong.\n",
    "\n",
    "## Solution Steps:\n",
    "* Import scipy\n",
    "* Define Number of questions, n \n",
    "* Define probability (p) of wrong answer for a question \n",
    "* Define Binomial Distribution by calling binom method of scipy\n",
    "* Define Number of failed answers\n",
    "* Get probability by calling pmf method on hh and by passing Number of failed answers as input\n",
    "* Print probability"
   ]
  },
  {
   "cell_type": "code",
   "execution_count": 3,
   "metadata": {},
   "outputs": [
    {
     "name": "stdout",
     "output_type": "stream",
     "text": [
      "probability of exactly 5 wrong answers = 3.4264958230778435e-06\n"
     ]
    }
   ],
   "source": [
    "import scipy.stats as ss \n",
    "# Number of questions\n",
    "n = 20\n",
    "\n",
    "# probability of wrong answer for a question\n",
    "p = 3./4\n",
    "\n",
    "# Define Binomial Distribution by calling binom method of scipy\n",
    "hh = ss.binom(n, p)\n",
    "\n",
    "# Number of failed answers\n",
    "no_failed_answers = 5\n",
    "\n",
    "# Get probability by calling pmf method on hh and by passing\n",
    "# Number of failed answers as input\n",
    "probability = hh.pmf(no_failed_answers)\n",
    "\n",
    "# Print the probability\n",
    "print(\"probability of exactly 5 wrong answers = \" + str(probability))"
   ]
  },
  {
   "cell_type": "code",
   "execution_count": null,
   "metadata": {},
   "outputs": [],
   "source": []
  }
 ],
 "metadata": {
  "kernelspec": {
   "display_name": "Python 3",
   "language": "python",
   "name": "python3"
  },
  "language_info": {
   "codemirror_mode": {
    "name": "ipython",
    "version": 3
   },
   "file_extension": ".py",
   "mimetype": "text/x-python",
   "name": "python",
   "nbconvert_exporter": "python",
   "pygments_lexer": "ipython3",
   "version": "3.6.4"
  }
 },
 "nbformat": 4,
 "nbformat_minor": 2
}
